{
 "cells": [
  {
   "cell_type": "code",
   "execution_count": 1,
   "metadata": {},
   "outputs": [
    {
     "data": {
      "text/html": [
       "<div>\n",
       "<style scoped>\n",
       "    .dataframe tbody tr th:only-of-type {\n",
       "        vertical-align: middle;\n",
       "    }\n",
       "\n",
       "    .dataframe tbody tr th {\n",
       "        vertical-align: top;\n",
       "    }\n",
       "\n",
       "    .dataframe thead th {\n",
       "        text-align: right;\n",
       "    }\n",
       "</style>\n",
       "<table border=\"1\" class=\"dataframe\">\n",
       "  <thead>\n",
       "    <tr style=\"text-align: right;\">\n",
       "      <th></th>\n",
       "      <th>Home_Team</th>\n",
       "      <th>Away_Team</th>\n",
       "      <th>Result</th>\n",
       "      <th>Link</th>\n",
       "      <th>Season</th>\n",
       "      <th>Round</th>\n",
       "      <th>League</th>\n",
       "    </tr>\n",
       "  </thead>\n",
       "  <tbody>\n",
       "    <tr>\n",
       "      <th>0</th>\n",
       "      <td>Watford</td>\n",
       "      <td>Middlesbrough</td>\n",
       "      <td>1-0</td>\n",
       "      <td>https://www.besoccer.com/match/watford-fc/midd...</td>\n",
       "      <td>2021</td>\n",
       "      <td>1</td>\n",
       "      <td>championship</td>\n",
       "    </tr>\n",
       "    <tr>\n",
       "      <th>1</th>\n",
       "      <td>Birmingham City</td>\n",
       "      <td>Brentford</td>\n",
       "      <td>1-0</td>\n",
       "      <td>https://www.besoccer.com/match/birmingham-city...</td>\n",
       "      <td>2021</td>\n",
       "      <td>1</td>\n",
       "      <td>championship</td>\n",
       "    </tr>\n",
       "    <tr>\n",
       "      <th>2</th>\n",
       "      <td>Wycombe Wanderers</td>\n",
       "      <td>Rotherham United</td>\n",
       "      <td>0-1</td>\n",
       "      <td>https://www.besoccer.com/match/wycombe-wandere...</td>\n",
       "      <td>2021</td>\n",
       "      <td>1</td>\n",
       "      <td>championship</td>\n",
       "    </tr>\n",
       "    <tr>\n",
       "      <th>3</th>\n",
       "      <td>AFC Bournemouth</td>\n",
       "      <td>Blackburn Rovers</td>\n",
       "      <td>3-2</td>\n",
       "      <td>https://www.besoccer.com/match/afc-bournemouth...</td>\n",
       "      <td>2021</td>\n",
       "      <td>1</td>\n",
       "      <td>championship</td>\n",
       "    </tr>\n",
       "    <tr>\n",
       "      <th>4</th>\n",
       "      <td>Barnsley</td>\n",
       "      <td>Luton Town</td>\n",
       "      <td>0-1</td>\n",
       "      <td>https://www.besoccer.com/match/barnsley-fc/lut...</td>\n",
       "      <td>2021</td>\n",
       "      <td>1</td>\n",
       "      <td>championship</td>\n",
       "    </tr>\n",
       "  </tbody>\n",
       "</table>\n",
       "</div>"
      ],
      "text/plain": [
       "           Home_Team         Away_Team Result  \\\n",
       "0            Watford     Middlesbrough    1-0   \n",
       "1    Birmingham City         Brentford    1-0   \n",
       "2  Wycombe Wanderers  Rotherham United    0-1   \n",
       "3    AFC Bournemouth  Blackburn Rovers    3-2   \n",
       "4           Barnsley        Luton Town    0-1   \n",
       "\n",
       "                                                Link  Season  Round  \\\n",
       "0  https://www.besoccer.com/match/watford-fc/midd...    2021      1   \n",
       "1  https://www.besoccer.com/match/birmingham-city...    2021      1   \n",
       "2  https://www.besoccer.com/match/wycombe-wandere...    2021      1   \n",
       "3  https://www.besoccer.com/match/afc-bournemouth...    2021      1   \n",
       "4  https://www.besoccer.com/match/barnsley-fc/lut...    2021      1   \n",
       "\n",
       "         League  \n",
       "0  championship  \n",
       "1  championship  \n",
       "2  championship  \n",
       "3  championship  \n",
       "4  championship  "
      ]
     },
     "execution_count": 1,
     "metadata": {},
     "output_type": "execute_result"
    }
   ],
   "source": [
    "import pandas as pd\n",
    "\n",
    "df = pd.read_csv('dataset.csv')\n",
    "df.head()"
   ]
  },
  {
   "cell_type": "markdown",
   "metadata": {},
   "source": [
    "## Data Exploration"
   ]
  },
  {
   "cell_type": "code",
   "execution_count": 2,
   "metadata": {},
   "outputs": [
    {
     "data": {
      "text/plain": [
       "League\n",
       "2_liga              32\n",
       "bundesliga          32\n",
       "championship        17\n",
       "eerste_divisie      20\n",
       "eredivisie          32\n",
       "ligue_1             32\n",
       "ligue_2             28\n",
       "premier_league      32\n",
       "primeira_liga       32\n",
       "primera_division    32\n",
       "segunda_division    32\n",
       "segunda_liga        24\n",
       "serie_a             27\n",
       "serie_b             32\n",
       "Name: Season, dtype: int64"
      ]
     },
     "execution_count": 2,
     "metadata": {},
     "output_type": "execute_result"
    }
   ],
   "source": [
    "# Number of seasons in each league\n",
    "df.groupby('League')['Season'].nunique()"
   ]
  },
  {
   "cell_type": "code",
   "execution_count": 3,
   "metadata": {},
   "outputs": [
    {
     "data": {
      "text/plain": [
       "548"
      ]
     },
     "execution_count": 3,
     "metadata": {},
     "output_type": "execute_result"
    }
   ],
   "source": [
    "# Total number of teams\n",
    "len(set(df['Home_Team'].unique().tolist() + df['Away_Team'].unique().tolist()))"
   ]
  },
  {
   "cell_type": "code",
   "execution_count": 4,
   "metadata": {},
   "outputs": [
    {
     "data": {
      "text/plain": [
       "array(['1-0', '0-1', '3-2', '2-1', '0-2', '0-0', '2-0', '5-0', '3-0',\n",
       "       '1-1', '2-2', '1-2', '0-4', '1-3', '2-4', '3-1', '0-3', '4-2',\n",
       "       '4-3', '2-3', '4-0', '4-1', '1-4', '3-3', '7-2', '6-0', '7-0',\n",
       "       '0-5', '5-2', '5-1', '7-1', '2-5', '6-1', '5-4', '5-3', '4-4',\n",
       "       '3-4', '6-4', '1-5', '1-6', '6-3', '3-5', '3-6', '6-2', '5-5',\n",
       "       '4-6', '2-6', '0-7', '0-6', '6-5', '4-7', '2-7', '1-7', '10-0',\n",
       "       '1-8', '8-0', '8-1', '1 (0-0) 1', '4-5', '18 MAR', '0-9', '9-0',\n",
       "       '6-6', '7-4', '7-3', '7-6', '8-2', '3-7', '2-8', '9-2', '1-9',\n",
       "       '9-1', '0-8', '3-8', '10-2', '5-6', '17 JAN', '0-13', '0 (0-0) 0',\n",
       "       '3 (3-2) 2', '0 (0-1) 1'], dtype=object)"
      ]
     },
     "execution_count": 4,
     "metadata": {},
     "output_type": "execute_result"
    }
   ],
   "source": [
    "df['Result'].unique()"
   ]
  },
  {
   "cell_type": "markdown",
   "metadata": {},
   "source": [
    "### Parse"
   ]
  },
  {
   "cell_type": "code",
   "execution_count": 9,
   "metadata": {},
   "outputs": [],
   "source": [
    "# Remove dates in results\n",
    "df.drop(df[df['Result'].str.contains('JAN')].index, inplace=True)\n",
    "df.drop(df[df['Result'].str.contains('MAR')].index, inplace=True)\n",
    "\n",
    "# Remove brackets and everything before and after.\n",
    "df['Result'] = df['Result'].str.replace('\\d\\s\\(', '').str.replace('\\)\\s\\d', '')\n",
    "\n",
    "df['Home_Score'] = df['Result'].apply(lambda x: int(x.split('-')[0]))\n",
    "df['Away_Score'] = df['Result'].apply(lambda x: int(x.split('-')[1]))"
   ]
  },
  {
   "cell_type": "markdown",
   "metadata": {},
   "source": [
    "#### Match outcome\n",
    "| Result | Value |\n",
    "| ------ | ----- |\n",
    "| Home wins/Away loses | 0 |\n",
    "| Home loses/Away wins | 1 |\n",
    "| Draw | 2 |"
   ]
  },
  {
   "cell_type": "code",
   "execution_count": 10,
   "metadata": {},
   "outputs": [],
   "source": [
    "df['Result'] = df.apply(lambda x: 0 if x['Home_Score'] > x['Away_Score'] else 1 if x['Home_Score'] < x['Away_Score'] else 2, axis=1)"
   ]
  },
  {
   "cell_type": "markdown",
   "metadata": {},
   "source": [
    "### Exploration continued"
   ]
  },
  {
   "cell_type": "code",
   "execution_count": 6,
   "metadata": {},
   "outputs": [
    {
     "data": {
      "text/html": [
       "<div>\n",
       "<style scoped>\n",
       "    .dataframe tbody tr th:only-of-type {\n",
       "        vertical-align: middle;\n",
       "    }\n",
       "\n",
       "    .dataframe tbody tr th {\n",
       "        vertical-align: top;\n",
       "    }\n",
       "\n",
       "    .dataframe thead th {\n",
       "        text-align: right;\n",
       "    }\n",
       "</style>\n",
       "<table border=\"1\" class=\"dataframe\">\n",
       "  <thead>\n",
       "    <tr style=\"text-align: right;\">\n",
       "      <th></th>\n",
       "      <th>Home_Score</th>\n",
       "      <th>Away_Score</th>\n",
       "    </tr>\n",
       "  </thead>\n",
       "  <tbody>\n",
       "    <tr>\n",
       "      <th>count</th>\n",
       "      <td>146496.000000</td>\n",
       "      <td>146496.000000</td>\n",
       "    </tr>\n",
       "    <tr>\n",
       "      <th>mean</th>\n",
       "      <td>1.500778</td>\n",
       "      <td>1.067490</td>\n",
       "    </tr>\n",
       "    <tr>\n",
       "      <th>std</th>\n",
       "      <td>1.260938</td>\n",
       "      <td>1.081964</td>\n",
       "    </tr>\n",
       "    <tr>\n",
       "      <th>min</th>\n",
       "      <td>0.000000</td>\n",
       "      <td>0.000000</td>\n",
       "    </tr>\n",
       "    <tr>\n",
       "      <th>25%</th>\n",
       "      <td>1.000000</td>\n",
       "      <td>0.000000</td>\n",
       "    </tr>\n",
       "    <tr>\n",
       "      <th>50%</th>\n",
       "      <td>1.000000</td>\n",
       "      <td>1.000000</td>\n",
       "    </tr>\n",
       "    <tr>\n",
       "      <th>75%</th>\n",
       "      <td>2.000000</td>\n",
       "      <td>2.000000</td>\n",
       "    </tr>\n",
       "    <tr>\n",
       "      <th>max</th>\n",
       "      <td>10.000000</td>\n",
       "      <td>13.000000</td>\n",
       "    </tr>\n",
       "  </tbody>\n",
       "</table>\n",
       "</div>"
      ],
      "text/plain": [
       "          Home_Score     Away_Score\n",
       "count  146496.000000  146496.000000\n",
       "mean        1.500778       1.067490\n",
       "std         1.260938       1.081964\n",
       "min         0.000000       0.000000\n",
       "25%         1.000000       0.000000\n",
       "50%         1.000000       1.000000\n",
       "75%         2.000000       2.000000\n",
       "max        10.000000      13.000000"
      ]
     },
     "execution_count": 6,
     "metadata": {},
     "output_type": "execute_result"
    }
   ],
   "source": [
    "df[['Home_Score', 'Away_Score']].describe()"
   ]
  },
  {
   "cell_type": "code",
   "execution_count": 14,
   "metadata": {},
   "outputs": [
    {
     "data": {
      "text/plain": [
       "<matplotlib.axes._subplots.AxesSubplot at 0x115e38410>"
      ]
     },
     "execution_count": 14,
     "metadata": {},
     "output_type": "execute_result"
    },
    {
     "data": {
      "image/png": "[encoded data removed]",
      "text/plain": [
       "<Figure size 432x288 with 1 Axes>"
      ]
     },
     "metadata": {},
     "output_type": "display_data"
    }
   ],
   "source": [
    "import matplotlib.pyplot as plt\n",
    "%matplotlib inline\n",
    "\n",
    "# Pie chart of wins, draws and losses\n",
    "df.groupby('Result')['Result'].count().plot(kind='pie', autopct='%1.1f%%', title='Win, draw and loss ratio')"
   ]
  },
  {
   "cell_type": "code",
   "execution_count": 22,
   "metadata": {},
   "outputs": [
    {
     "data": {
      "text/plain": [
       "<matplotlib.axes._subplots.AxesSubplot at 0x1162db890>"
      ]
     },
     "execution_count": 22,
     "metadata": {},
     "output_type": "execute_result"
    },
    {
     "data": {
      "image/png": "[encoded data removed]",
      "text/plain": [
       "<Figure size 432x288 with 1 Axes>"
      ]
     },
     "metadata": {
      "needs_background": "light"
     },
     "output_type": "display_data"
    }
   ],
   "source": [
    "df['Diff'] = (df['Home_Score'] - df['Away_Score']).abs()\n",
    "df['Diff'].value_counts().plot(kind='bar', logy=True, title='Unique score differences counts on the log-scale')"
   ]
  },
  {
   "cell_type": "code",
   "execution_count": 15,
   "metadata": {},
   "outputs": [
    {
     "name": "stderr",
     "output_type": "stream",
     "text": [
      "/usr/local/lib/python3.7/site-packages/ipykernel_launcher.py:3: UserWarning: Boolean Series key will be reindexed to match DataFrame index.\n",
      "  This is separate from the ipykernel package so we can avoid doing imports until\n"
     ]
    },
    {
     "data": {
      "image/png": "[encoded data removed]",
      "text/plain": [
       "<Figure size 1080x360 with 1 Axes>"
      ]
     },
     "metadata": {
      "needs_background": "light"
     },
     "output_type": "display_data"
    }
   ],
   "source": [
    "team = 'Liverpool'\n",
    "plt.figure(figsize=(15,5))\n",
    "df[df['League'] == 'premier_league'][df['Home_Team'] == team].groupby('Season')['Home_Score'].sum().plot(kind='bar', title='Liverpool total scores over the seasons of premier league')\n",
    "plt.show()"
   ]
  }
 ],
 "metadata": {
  "interpreter": {
   "hash": "aee8b7b246df8f9039afb4144a1f6fd8d2ca17a180786b69acc140d282b71a49"
  },
  "kernelspec": {
   "display_name": "Python 3.7.7 64-bit",
   "language": "python",
   "name": "python3"
  },
  "language_info": {
   "codemirror_mode": {
    "name": "ipython",
    "version": 3
   },
   "file_extension": ".py",
   "mimetype": "text/x-python",
   "name": "python",
   "nbconvert_exporter": "python",
   "pygments_lexer": "ipython3",
   "version": "3.7.7"
  },
  "orig_nbformat": 4
 },
 "nbformat": 4,
 "nbformat_minor": 2
}
